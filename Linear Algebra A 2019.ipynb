{
 "cells": [
  {
   "cell_type": "code",
   "execution_count": 1,
   "metadata": {},
   "outputs": [],
   "source": [
    "using LinearAlgebra\n",
    "using SymPy"
   ]
  },
  {
   "cell_type": "markdown",
   "metadata": {},
   "source": [
    "\\[1\\]"
   ]
  },
  {
   "cell_type": "code",
   "execution_count": 2,
   "metadata": {},
   "outputs": [
    {
     "data": {
      "text/plain": [
       "6"
      ]
     },
     "execution_count": 2,
     "metadata": {},
     "output_type": "execute_result"
    }
   ],
   "source": [
    "X = Rational[\n",
    "    4321 4322 4323\n",
    "    4324 4325 432_7\n",
    "    4327 4328 4329\n",
    "]\n",
    "\n",
    "Int(det(X))"
   ]
  },
  {
   "cell_type": "markdown",
   "metadata": {},
   "source": [
    "\\[2\\]"
   ]
  },
  {
   "cell_type": "code",
   "execution_count": 3,
   "metadata": {},
   "outputs": [
    {
     "data": {
      "text/latex": [
       "\\begin{equation*}- 3 a + 6 b - 3 c\\end{equation*}"
      ],
      "text/plain": [
       "-3*a + 6*b - 3*c"
      ]
     },
     "execution_count": 3,
     "metadata": {},
     "output_type": "execute_result"
    }
   ],
   "source": [
    "@vars a b c\n",
    "\n",
    "Y = [\n",
    "    4321 4322 4323+a\n",
    "    4324 4325 4326+b\n",
    "    4327 4328 4329+c\n",
    "]\n",
    "\n",
    "det(Y)"
   ]
  },
  {
   "cell_type": "markdown",
   "metadata": {},
   "source": [
    "\\[3\\]"
   ]
  },
  {
   "cell_type": "code",
   "execution_count": 4,
   "metadata": {},
   "outputs": [
    {
     "data": {
      "text/latex": [
       "\\begin{equation*}19\\end{equation*}"
      ],
      "text/plain": [
       "19"
      ]
     },
     "metadata": {},
     "output_type": "display_data"
    },
    {
     "data": {
      "text/latex": [
       "\\[\\left[ \\begin{array}{rrr}5&1&1\\\\3&12&-7\\\\-7&-9&10\\end{array}\\right]\\]"
      ],
      "text/plain": [
       "3×3 Array{Sym,2}:\n",
       "  5   1   1\n",
       "  3  12  -7\n",
       " -7  -9  10"
      ]
     },
     "metadata": {},
     "output_type": "display_data"
    },
    {
     "data": {
      "text/latex": [
       "\\[\\left[ \\begin{array}{rrr}\\frac{5}{19}&\\frac{3}{19}&- \\frac{7}{19}\\\\\\frac{1}{19}&\\frac{12}{19}&- \\frac{9}{19}\\\\\\frac{1}{19}&- \\frac{7}{19}&\\frac{10}{19}\\end{array}\\right]\\]"
      ],
      "text/plain": [
       "3×3 Array{Sym,2}:\n",
       " 5/19   3/19  -7/19\n",
       " 1/19  12/19  -9/19\n",
       " 1/19  -7/19  10/19"
      ]
     },
     "execution_count": 4,
     "metadata": {},
     "output_type": "execute_result"
    }
   ],
   "source": [
    "A = Rational[\n",
    "     3 1 3\n",
    "    -1 3 2\n",
    "    -1 2 3\n",
    "]\n",
    "\n",
    "Sym(det(A)) |> display\n",
    "Sym.(det(A)*inv(A')) |> display\n",
    "Sym.(inv(A))"
   ]
  },
  {
   "cell_type": "markdown",
   "metadata": {},
   "source": [
    "\\[4\\]"
   ]
  },
  {
   "cell_type": "code",
   "execution_count": 5,
   "metadata": {},
   "outputs": [
    {
     "data": {
      "text/latex": [
       "\\[\\left[ \\begin{array}{rrr}3&-1&2\\\\4&1&3\\\\3&3&5\\end{array}\\right]\\]"
      ],
      "text/plain": [
       "3×3 Array{Sym,2}:\n",
       " 3  -1  2\n",
       " 4   1  3\n",
       " 3   3  5"
      ]
     },
     "metadata": {},
     "output_type": "display_data"
    },
    {
     "data": {
      "text/latex": [
       "\\[ \\left[ \\begin{array}{r}1\\\\1\\\\-1\\end{array} \\right] \\]"
      ],
      "text/plain": [
       "3-element Array{Sym,1}:\n",
       "  1\n",
       "  1\n",
       " -1"
      ]
     },
     "metadata": {},
     "output_type": "display_data"
    },
    {
     "data": {
      "text/latex": [
       "\\[ \\left[ \\begin{array}{r}\\frac{12}{17}\\\\- \\frac{1}{17}\\\\- \\frac{10}{17}\\end{array} \\right] \\]"
      ],
      "text/plain": [
       "3-element Array{Sym,1}:\n",
       "  12/17\n",
       "  -1/17\n",
       " -10/17"
      ]
     },
     "execution_count": 5,
     "metadata": {},
     "output_type": "execute_result"
    }
   ],
   "source": [
    "A = Sym[\n",
    "    3 -1 2\n",
    "    4  1 3\n",
    "    3  3 5\n",
    "]\n",
    "\n",
    "b = Sym[\n",
    "    1\n",
    "    1\n",
    "    -1\n",
    "]\n",
    "\n",
    "A |> display\n",
    "b |> display\n",
    "A\\b"
   ]
  },
  {
   "cell_type": "code",
   "execution_count": 6,
   "metadata": {},
   "outputs": [
    {
     "data": {
      "text/latex": [
       "\\begin{equation*}17\\end{equation*}"
      ],
      "text/plain": [
       "17"
      ]
     },
     "metadata": {},
     "output_type": "display_data"
    },
    {
     "data": {
      "text/latex": [
       "\\[\\left[ \\begin{array}{rrr}1&-1&2\\\\1&1&3\\\\-1&3&5\\end{array}\\right]\\]"
      ],
      "text/plain": [
       "3×3 Array{Sym,2}:\n",
       "  1  -1  2\n",
       "  1   1  3\n",
       " -1   3  5"
      ]
     },
     "metadata": {},
     "output_type": "display_data"
    },
    {
     "data": {
      "text/latex": [
       "\\[\\left[ \\begin{array}{rrr}3&1&2\\\\4&1&3\\\\3&-1&5\\end{array}\\right]\\]"
      ],
      "text/plain": [
       "3×3 Array{Sym,2}:\n",
       " 3   1  2\n",
       " 4   1  3\n",
       " 3  -1  5"
      ]
     },
     "metadata": {},
     "output_type": "display_data"
    },
    {
     "data": {
      "text/latex": [
       "\\[\\left[ \\begin{array}{rrr}3&-1&1\\\\4&1&1\\\\3&3&-1\\end{array}\\right]\\]"
      ],
      "text/plain": [
       "3×3 Array{Sym,2}:\n",
       " 3  -1   1\n",
       " 4   1   1\n",
       " 3   3  -1"
      ]
     },
     "metadata": {},
     "output_type": "display_data"
    },
    {
     "data": {
      "text/latex": [
       "\\[ \\left[ \\begin{array}{r}\\frac{12}{17}\\\\- \\frac{1}{17}\\\\- \\frac{10}{17}\\end{array} \\right] \\]"
      ],
      "text/plain": [
       "3-element Array{Sym,1}:\n",
       "  12/17\n",
       "  -1/17\n",
       " -10/17"
      ]
     },
     "execution_count": 6,
     "metadata": {},
     "output_type": "execute_result"
    }
   ],
   "source": [
    "det(A) |> display\n",
    "A1 = copy(A); A1[:,1] = b\n",
    "A2 = copy(A); A2[:,2] = b\n",
    "A3 = copy(A); A3[:,3] = b\n",
    "A1 |> display\n",
    "A2 |> display\n",
    "A3 |> display\n",
    "[\n",
    "    det(A1)/det(A)\n",
    "    det(A2)/det(A)\n",
    "    det(A3)/det(A)\n",
    "]"
   ]
  },
  {
   "cell_type": "markdown",
   "metadata": {},
   "source": [
    "\\[5\\]"
   ]
  },
  {
   "cell_type": "code",
   "execution_count": 7,
   "metadata": {},
   "outputs": [
    {
     "data": {
      "text/latex": [
       "\\begin{equation*}- \\frac{3}{25}\\end{equation*}"
      ],
      "text/plain": [
       "-3/25"
      ]
     },
     "execution_count": 7,
     "metadata": {},
     "output_type": "execute_result"
    }
   ],
   "source": [
    "a = Sym[\n",
    "    4\n",
    "    2\n",
    "    -2\n",
    "    1\n",
    "]\n",
    "\n",
    "b = Sym[\n",
    "    2\n",
    "    -4\n",
    "    2\n",
    "    1\n",
    "]\n",
    "\n",
    "c = dot(a,b)/norm(a)/norm(b)"
   ]
  },
  {
   "cell_type": "code",
   "execution_count": 8,
   "metadata": {},
   "outputs": [
    {
     "data": {
      "text/plain": [
       "96.89210257934639"
      ]
     },
     "execution_count": 8,
     "metadata": {},
     "output_type": "execute_result"
    }
   ],
   "source": [
    "acos(Float64(c))/π*180"
   ]
  },
  {
   "cell_type": "markdown",
   "metadata": {},
   "source": [
    "96.9度は直角に近い."
   ]
  },
  {
   "cell_type": "markdown",
   "metadata": {},
   "source": [
    "\\[6\\]\n",
    "\n",
    "一般に $m\\times n$ 行列 $X$ と $n\\times m$ 行列 $Y$ について $(XY)^T=Y^T X^T$ が成立している. ゆえに, $AA^{-1}=A^{-1}A=E$ 全体の転置を取ると, $(A^{-1})^TA^T=A^T(A^{-1})^T=E$. これで $(A^{-1})^T$ が $A^T$ の逆行列になっていることが示された."
   ]
  },
  {
   "cell_type": "markdown",
   "metadata": {},
   "source": [
    "\\[7\\]\n",
    "\n",
    "$A^T=A$ より $(A^{-1})^T = (A^T)^{-1}=A^{-1}$ となる. 一般に $b^T x = x^T b$ となる. ゆえに,\n",
    "\n",
    "$$\n",
    "\\begin{aligned}\n",
    "\\mathrm{RHS} &=\n",
    "(x^T + b^T A^{-1})(Ax+b) - b^T A^{-1}b\n",
    "\\\\ &=\n",
    "x^T A x + x^T b + b^T x + b^T A^{-1}b - b^T A^{-1}b\n",
    "\\\\ &=\n",
    "x^t A x + 2b^T x \n",
    "\\\\ &=\n",
    "\\mathrm{LHS}.\n",
    "\\end{aligned}\n",
    "$$"
   ]
  },
  {
   "cell_type": "markdown",
   "metadata": {},
   "source": [
    "\\[8\\]"
   ]
  },
  {
   "cell_type": "code",
   "execution_count": 9,
   "metadata": {},
   "outputs": [
    {
     "data": {
      "text/plain": [
       "3"
      ]
     },
     "execution_count": 9,
     "metadata": {},
     "output_type": "execute_result"
    }
   ],
   "source": [
    "K = Rational[\n",
    "    5 2 1 3 2\n",
    "    3 8 8 4 3\n",
    "    6 4 2 4 2\n",
    "    1 8 8 3 2\n",
    "    5 8 8 5 4\n",
    "]\n",
    "\n",
    "rank(K)"
   ]
  },
  {
   "cell_type": "markdown",
   "metadata": {},
   "source": [
    "\\[9\\]"
   ]
  },
  {
   "cell_type": "code",
   "execution_count": 10,
   "metadata": {},
   "outputs": [
    {
     "data": {
      "text/latex": [
       "\\[\\left[ \\begin{array}{rr}-1&6\\\\-2&6\\end{array}\\right]\\]"
      ],
      "text/plain": [
       "2×2 Array{Sym,2}:\n",
       " -1  6\n",
       " -2  6"
      ]
     },
     "execution_count": 10,
     "metadata": {},
     "output_type": "execute_result"
    }
   ],
   "source": [
    "L = [\n",
    "    -1 6\n",
    "    -2 6\n",
    "]\n",
    "\n",
    "Sym.(L)"
   ]
  },
  {
   "cell_type": "code",
   "execution_count": 11,
   "metadata": {},
   "outputs": [
    {
     "data": {
      "text/plain": [
       "2×2 Array{Float64,2}:\n",
       " -3.0  6.0\n",
       " -2.0  4.0"
      ]
     },
     "execution_count": 11,
     "metadata": {},
     "output_type": "execute_result"
    }
   ],
   "source": [
    "(L/3)^100"
   ]
  },
  {
   "cell_type": "code",
   "execution_count": 12,
   "metadata": {},
   "outputs": [
    {
     "data": {
      "text/latex": [
       "\\[\\left[ \\begin{array}{rr}-1&6\\\\-2&6\\end{array}\\right]\\]"
      ],
      "text/plain": [
       "2×2 Array{Sym,2}:\n",
       " -1  6\n",
       " -2  6"
      ]
     },
     "execution_count": 12,
     "metadata": {},
     "output_type": "execute_result"
    }
   ],
   "source": [
    "P = [\n",
    "    3 2\n",
    "    2 1\n",
    "]\n",
    "\n",
    "D = [\n",
    "    3 0\n",
    "    0 2\n",
    "]\n",
    "\n",
    "P*D*Sym.(P)^(-1)"
   ]
  },
  {
   "cell_type": "code",
   "execution_count": 13,
   "metadata": {},
   "outputs": [
    {
     "data": {
      "text/latex": [
       "\\[\\left[ \\begin{array}{rr}4 \\cdot 2^{n} - 3 \\cdot 3^{n}&- 6 \\cdot 2^{n} + 6 \\cdot 3^{n}\\\\2 \\cdot 2^{n} - 2 \\cdot 3^{n}&- 3 \\cdot 2^{n} + 4 \\cdot 3^{n}\\end{array}\\right]\\]"
      ],
      "text/plain": [
       "2×2 Array{Sym,2}:\n",
       " 4*2^n - 3*3^n  -6*2^n + 6*3^n\n",
       " 2*2^n - 2*3^n  -3*2^n + 4*3^n"
      ]
     },
     "execution_count": 13,
     "metadata": {},
     "output_type": "execute_result"
    }
   ],
   "source": [
    "@vars n integer=true\n",
    "Dn = [\n",
    "    3^n 0\n",
    "    0 2^n\n",
    "]\n",
    "\n",
    "P*Dn*Sym.(P)^(-1)"
   ]
  },
  {
   "cell_type": "markdown",
   "metadata": {},
   "source": [
    "これに $3^{-n}$ をかけて $n\\to\\infty$ とすると,\n",
    "\n",
    "$$\n",
    "\\begin{bmatrix}\n",
    "-3 & 6 \\\\\n",
    "-2 & 4 \\\\\n",
    "\\end{bmatrix}\n",
    "$$\n",
    "\n",
    "に収束する."
   ]
  },
  {
   "cell_type": "code",
   "execution_count": null,
   "metadata": {},
   "outputs": [],
   "source": [
    "\n"
   ]
  }
 ],
 "metadata": {
  "@webio": {
   "lastCommId": null,
   "lastKernelId": null
  },
  "kernelspec": {
   "display_name": "Julia 1.1.1",
   "language": "julia",
   "name": "julia-1.1"
  },
  "language_info": {
   "file_extension": ".jl",
   "mimetype": "application/julia",
   "name": "julia",
   "version": "1.1.1"
  },
  "toc": {
   "base_numbering": 1,
   "nav_menu": {},
   "number_sections": true,
   "sideBar": true,
   "skip_h1_title": false,
   "title_cell": "Table of Contents",
   "title_sidebar": "Contents",
   "toc_cell": false,
   "toc_position": {},
   "toc_section_display": true,
   "toc_window_display": false
  }
 },
 "nbformat": 4,
 "nbformat_minor": 2
}
