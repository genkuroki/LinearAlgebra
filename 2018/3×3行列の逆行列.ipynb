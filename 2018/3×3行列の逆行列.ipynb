{
 "cells": [
  {
   "cell_type": "markdown",
   "metadata": {},
   "source": [
    "http://nbviewer.jupyter.org/github/genkuroki/LinearAlgebra/blob/master/3×3行列の逆行列.ipynb"
   ]
  },
  {
   "cell_type": "code",
   "execution_count": 1,
   "metadata": {},
   "outputs": [],
   "source": [
    "using SymPy"
   ]
  },
  {
   "cell_type": "code",
   "execution_count": 2,
   "metadata": {},
   "outputs": [
    {
     "data": {
      "text/latex": [
       "\\begin{bmatrix}a&b&c\\\\d&e&f\\\\g&h&k\\end{bmatrix}"
      ],
      "text/plain": [
       "3×3 Array{SymPy.Sym,2}:\n",
       " a  b  c\n",
       " d  e  f\n",
       " g  h  k"
      ]
     },
     "execution_count": 2,
     "metadata": {},
     "output_type": "execute_result"
    }
   ],
   "source": [
    "a, b, c, d, e, f, g, h, k = symbols(\"a b c d e f g h k\")\n",
    "A = [\n",
    "    a b c\n",
    "    d e f\n",
    "    g h k\n",
    "]"
   ]
  },
  {
   "cell_type": "code",
   "execution_count": 3,
   "metadata": {},
   "outputs": [
    {
     "data": {
      "text/latex": [
       "$$a e k - a f h - b d k + b f g + c d h - c e g$$"
      ],
      "text/plain": [
       "a*e*k - a*f*h - b*d*k + b*f*g + c*d*h - c*e*g"
      ]
     },
     "metadata": {},
     "output_type": "display_data"
    },
    {
     "data": {
      "text/latex": [
       "\\begin{bmatrix}e k - f h&- d k + f g&d h - e g\\\\- b k + c h&a k - c g&- a h + b g\\\\b f - c e&- a f + c d&a e - b d\\end{bmatrix}"
      ],
      "text/plain": [
       "3×3 Array{SymPy.Sym,2}:\n",
       "  e*k - f*h  -d*k + f*g   d*h - e*g\n",
       " -b*k + c*h   a*k - c*g  -a*h + b*g\n",
       "  b*f - c*e  -a*f + c*d   a*e - b*d"
      ]
     },
     "metadata": {},
     "output_type": "display_data"
    },
    {
     "data": {
      "text/latex": [
       "\\begin{bmatrix}1&0&0\\\\0&1&0\\\\0&0&1\\end{bmatrix}"
      ],
      "text/plain": [
       "3×3 Array{SymPy.Sym,2}:\n",
       " 1  0  0\n",
       " 0  1  0\n",
       " 0  0  1"
      ]
     },
     "execution_count": 3,
     "metadata": {},
     "output_type": "execute_result"
    }
   ],
   "source": [
    "δ = simplify(det(A))\n",
    "Δ = transpose(δ*simplify.(inv(A)))\n",
    "\n",
    "display(δ)\n",
    "display(Δ)\n",
    "simplify.((1/δ)*transpose(Δ)*A)"
   ]
  },
  {
   "cell_type": "code",
   "execution_count": 4,
   "metadata": {},
   "outputs": [
    {
     "data": {
      "text/latex": [
       "\\begin{bmatrix}a&b&c\\\\0&e - \\frac{b d}{a}&f - \\frac{c d}{a}\\\\0&0&\\frac{1}{a e - b d} \\left(a e k - a f h - b d k + b f g + c d h - c e g\\right)\\end{bmatrix}"
      ],
      "text/plain": [
       "3×3 Array{SymPy.Sym,2}:\n",
       " a          b                                                            c\n",
       " 0  e - b*d/a                                                    f - c*d/a\n",
       " 0          0  (a*e*k - a*f*h - b*d*k + b*f*g + c*d*h - c*e*g)/(a*e - b*d)"
      ]
     },
     "metadata": {},
     "output_type": "display_data"
    },
    {
     "data": {
      "text/latex": [
       "\\begin{bmatrix}1&0&0\\\\\\frac{d}{a}&1&0\\\\\\frac{g}{a}&\\frac{a h - b g}{a e - b d}&1\\end{bmatrix}"
      ],
      "text/plain": [
       "3×3 Array{SymPy.Sym,2}:\n",
       "   1                        0  0\n",
       " d/a                        1  0\n",
       " g/a  (a*h - b*g)/(a*e - b*d)  1"
      ]
     },
     "metadata": {},
     "output_type": "display_data"
    },
    {
     "data": {
      "text/latex": [
       "\\begin{bmatrix}1&0&0\\\\- \\frac{d}{a}&1&0\\\\\\frac{d h - e g}{a e - b d}&\\frac{- a h + b g}{a e - b d}&1\\end{bmatrix}"
      ],
      "text/plain": [
       "3×3 Array{SymPy.Sym,2}:\n",
       "                       1                         0  0\n",
       "                    -d/a                         1  0\n",
       " (d*h - e*g)/(a*e - b*d)  (-a*h + b*g)/(a*e - b*d)  1"
      ]
     },
     "metadata": {},
     "output_type": "display_data"
    },
    {
     "data": {
      "text/latex": [
       "\\begin{bmatrix}a&b&c\\\\d&e&f\\\\g&h&k\\end{bmatrix}"
      ],
      "text/plain": [
       "3×3 Array{SymPy.Sym,2}:\n",
       " a  b  c\n",
       " d  e  f\n",
       " g  h  k"
      ]
     },
     "execution_count": 4,
     "metadata": {},
     "output_type": "execute_result"
    }
   ],
   "source": [
    "F = lufact(A)\n",
    "Z = simplify.(F[:U])\n",
    "L = simplify.(F[:L])\n",
    "W = simplify.(inv(L))\n",
    "\n",
    "display(Z)\n",
    "display(L)\n",
    "display(W)\n",
    "simplify.(inv(W)*Z)"
   ]
  },
  {
   "cell_type": "code",
   "execution_count": 5,
   "metadata": {},
   "outputs": [
    {
     "data": {
      "text/latex": [
       "\\begin{bmatrix}a₁₁&a₁₂&a₁₃\\\\a₂₁&a₂₂&a₂₃\\\\a₃₁&a₃₂&a₃₃\\end{bmatrix}"
      ],
      "text/plain": [
       "3×3 Array{SymPy.Sym,2}:\n",
       " a₁₁  a₁₂  a₁₃\n",
       " a₂₁  a₂₂  a₂₃\n",
       " a₃₁  a₃₂  a₃₃"
      ]
     },
     "execution_count": 5,
     "metadata": {},
     "output_type": "execute_result"
    }
   ],
   "source": [
    "is = [\"₁\", \"₂\", \"₃\"]\n",
    "A = [symbols(\"a$i$j\")[1] for i in is, j in is]"
   ]
  },
  {
   "cell_type": "code",
   "execution_count": 6,
   "metadata": {},
   "outputs": [
    {
     "data": {
      "text/latex": [
       "$$a₁₁ a₂₂ a₃₃ - a₁₁ a₂₃ a₃₂ - a₁₂ a₂₁ a₃₃ + a₁₂ a₂₃ a₃₁ + a₁₃ a₂₁ a₃₂ - a₁₃ a₂₂ a₃₁$$"
      ],
      "text/plain": [
       "a₁₁*a₂₂*a₃₃ - a₁₁*a₂₃*a₃₂ - a₁₂*a₂₁*a₃₃ + a₁₂*a₂₃*a₃₁ + a₁₃*a₂₁*a₃₂ - a₁₃*a₂₂*\n",
       "a₃₁"
      ]
     },
     "metadata": {},
     "output_type": "display_data"
    },
    {
     "data": {
      "text/latex": [
       "\\begin{bmatrix}a₂₂ a₃₃ - a₂₃ a₃₂&- a₂₁ a₃₃ + a₂₃ a₃₁&a₂₁ a₃₂ - a₂₂ a₃₁\\\\- a₁₂ a₃₃ + a₁₃ a₃₂&a₁₁ a₃₃ - a₁₃ a₃₁&- a₁₁ a₃₂ + a₁₂ a₃₁\\\\a₁₂ a₂₃ - a₁₃ a₂₂&- a₁₁ a₂₃ + a₁₃ a₂₁&a₁₁ a₂₂ - a₁₂ a₂₁\\end{bmatrix}"
      ],
      "text/plain": [
       "3×3 Array{SymPy.Sym,2}:\n",
       "  a₂₂*a₃₃ - a₂₃*a₃₂  -a₂₁*a₃₃ + a₂₃*a₃₁   a₂₁*a₃₂ - a₂₂*a₃₁\n",
       " -a₁₂*a₃₃ + a₁₃*a₃₂   a₁₁*a₃₃ - a₁₃*a₃₁  -a₁₁*a₃₂ + a₁₂*a₃₁\n",
       "  a₁₂*a₂₃ - a₁₃*a₂₂  -a₁₁*a₂₃ + a₁₃*a₂₁   a₁₁*a₂₂ - a₁₂*a₂₁"
      ]
     },
     "metadata": {},
     "output_type": "display_data"
    },
    {
     "data": {
      "text/latex": [
       "\\begin{bmatrix}1&0&0\\\\0&1&0\\\\0&0&1\\end{bmatrix}"
      ],
      "text/plain": [
       "3×3 Array{SymPy.Sym,2}:\n",
       " 1  0  0\n",
       " 0  1  0\n",
       " 0  0  1"
      ]
     },
     "execution_count": 6,
     "metadata": {},
     "output_type": "execute_result"
    }
   ],
   "source": [
    "δ = simplify(det(A))\n",
    "Δ = transpose(δ*simplify.(inv(A)))\n",
    "\n",
    "display(δ)\n",
    "display(Δ)\n",
    "simplify.((1/δ)*transpose(Δ)*A)"
   ]
  },
  {
   "cell_type": "code",
   "execution_count": 7,
   "metadata": {},
   "outputs": [
    {
     "data": {
      "text/latex": [
       "\\begin{bmatrix}a₁₁&a₁₂&a₁₃\\\\0&a₂₂ - \\frac{a₁₂ a₂₁}{a₁₁}&a₂₃ - \\frac{a₁₃ a₂₁}{a₁₁}\\\\0&0&\\frac{1}{a₁₁ a₂₂ - a₁₂ a₂₁} \\left(a₁₁ a₂₂ a₃₃ - a₁₁ a₂₃ a₃₂ - a₁₂ a₂₁ a₃₃ + a₁₂ a₂₃ a₃₁ + a₁₃ a₂₁ a₃₂ - a₁₃ a₂₂ a₃₁\\right)\\end{bmatrix}"
      ],
      "text/plain": [
       "3×3 Array{SymPy.Sym,2}:\n",
       " a₁₁  …                                                                                                      a₁₃\n",
       "   0                                                                                           a₂₃ - a₁₃*a₂₁/a₁₁\n",
       "   0     (a₁₁*a₂₂*a₃₃ - a₁₁*a₂₃*a₃₂ - a₁₂*a₂₁*a₃₃ + a₁₂*a₂₃*a₃₁ + a₁₃*a₂₁*a₃₂ - a₁₃*a₂₂*a₃₁)/(a₁₁*a₂₂ - a₁₂*a₂₁)"
      ]
     },
     "metadata": {},
     "output_type": "display_data"
    },
    {
     "data": {
      "text/latex": [
       "\\begin{bmatrix}1&0&0\\\\\\frac{a₂₁}{a₁₁}&1&0\\\\\\frac{a₃₁}{a₁₁}&\\frac{a₁₁ a₃₂ - a₁₂ a₃₁}{a₁₁ a₂₂ - a₁₂ a₂₁}&1\\end{bmatrix}"
      ],
      "text/plain": [
       "3×3 Array{SymPy.Sym,2}:\n",
       "       1                                        0  0\n",
       " a₂₁/a₁₁                                        1  0\n",
       " a₃₁/a₁₁  (a₁₁*a₃₂ - a₁₂*a₃₁)/(a₁₁*a₂₂ - a₁₂*a₂₁)  1"
      ]
     },
     "metadata": {},
     "output_type": "display_data"
    },
    {
     "data": {
      "text/latex": [
       "\\begin{bmatrix}1&0&0\\\\- \\frac{a₂₁}{a₁₁}&1&0\\\\\\frac{a₂₁ a₃₂ - a₂₂ a₃₁}{a₁₁ a₂₂ - a₁₂ a₂₁}&\\frac{- a₁₁ a₃₂ + a₁₂ a₃₁}{a₁₁ a₂₂ - a₁₂ a₂₁}&1\\end{bmatrix}"
      ],
      "text/plain": [
       "3×3 Array{SymPy.Sym,2}:\n",
       "                                       1  …  0\n",
       "                                -a₂₁/a₁₁     0\n",
       " (a₂₁*a₃₂ - a₂₂*a₃₁)/(a₁₁*a₂₂ - a₁₂*a₂₁)     1"
      ]
     },
     "metadata": {},
     "output_type": "display_data"
    },
    {
     "data": {
      "text/latex": [
       "\\begin{bmatrix}a₁₁&a₁₂&a₁₃\\\\a₂₁&a₂₂&a₂₃\\\\a₃₁&a₃₂&a₃₃\\end{bmatrix}"
      ],
      "text/plain": [
       "3×3 Array{SymPy.Sym,2}:\n",
       " a₁₁  a₁₂  a₁₃\n",
       " a₂₁  a₂₂  a₂₃\n",
       " a₃₁  a₃₂  a₃₃"
      ]
     },
     "execution_count": 7,
     "metadata": {},
     "output_type": "execute_result"
    }
   ],
   "source": [
    "F = lufact(A)\n",
    "Z = simplify.(F[:U])\n",
    "L = simplify.(F[:L])\n",
    "W = simplify.(inv(L))\n",
    "\n",
    "display(Z)\n",
    "display(L)\n",
    "display(W)\n",
    "simplify.(inv(W)*Z)"
   ]
  },
  {
   "cell_type": "code",
   "execution_count": null,
   "metadata": {},
   "outputs": [],
   "source": []
  }
 ],
 "metadata": {
  "kernelspec": {
   "display_name": "Julia 0.6.3",
   "language": "julia",
   "name": "julia-0.6"
  },
  "language_info": {
   "file_extension": ".jl",
   "mimetype": "application/julia",
   "name": "julia",
   "version": "0.6.3"
  },
  "toc": {
   "nav_menu": {},
   "number_sections": true,
   "sideBar": true,
   "skip_h1_title": false,
   "title_cell": "Table of Contents",
   "title_sidebar": "Contents",
   "toc_cell": false,
   "toc_position": {},
   "toc_section_display": true,
   "toc_window_display": false
  }
 },
 "nbformat": 4,
 "nbformat_minor": 2
}
