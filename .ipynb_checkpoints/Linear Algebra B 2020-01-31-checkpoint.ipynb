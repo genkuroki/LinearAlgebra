{
 "cells": [
  {
   "cell_type": "markdown",
   "metadata": {},
   "source": [
    "# 2020-01-31 線形代数学B\n",
    "\n",
    "黒木玄\n",
    "\n",
    "2020-01-31"
   ]
  },
  {
   "cell_type": "code",
   "execution_count": 1,
   "metadata": {},
   "outputs": [],
   "source": [
    "using SymPy\n",
    "using LinearAlgebra"
   ]
  },
  {
   "cell_type": "markdown",
   "metadata": {},
   "source": [
    "## 問題1"
   ]
  },
  {
   "cell_type": "code",
   "execution_count": 2,
   "metadata": {},
   "outputs": [
    {
     "data": {
      "text/plain": [
       "Eigen{Float64,Float64,Array{Float64,2},Array{Float64,1}}\n",
       "eigenvalues:\n",
       "3-element Array{Float64,1}:\n",
       " 1.000000000000007 \n",
       " 1.9999999999999911\n",
       " 3.0000000000000044\n",
       "eigenvectors:\n",
       "3×3 Array{Float64,2}:\n",
       " 0.333333  -0.371391  -0.707107   \n",
       " 0.666667  -0.742781  -0.707107   \n",
       " 0.666667  -0.557086   6.10982e-15"
      ]
     },
     "execution_count": 2,
     "metadata": {},
     "output_type": "execute_result"
    }
   ],
   "source": [
    "eigen([\n",
    "    1 2 -2\n",
    "   -4 7 -4\n",
    "   -6 6 -2        \n",
    "])"
   ]
  },
  {
   "cell_type": "code",
   "execution_count": 3,
   "metadata": {},
   "outputs": [
    {
     "data": {
      "text/latex": [
       "\\[\\left[ \\begin{array}{rrr}1&2&-2\\\\-4&7&-4\\\\-6&6&-2\\end{array}\\right]\\]"
      ],
      "text/plain": [
       "3×3 Array{Sym,2}:\n",
       "  1  2  -2\n",
       " -4  7  -4\n",
       " -6  6  -2"
      ]
     },
     "execution_count": 3,
     "metadata": {},
     "output_type": "execute_result"
    }
   ],
   "source": [
    "X = Sym[\n",
    "     1 2 -2\n",
    "    -4 7 -4\n",
    "    -6 6 -2\n",
    "]"
   ]
  },
  {
   "cell_type": "code",
   "execution_count": 4,
   "metadata": {},
   "outputs": [
    {
     "data": {
      "text/latex": [
       "\\[\\left[ \\begin{array}{rrr}1&2&1\\\\2&4&1\\\\2&3&0\\end{array}\\right]\\]"
      ],
      "text/plain": [
       "3×3 Array{Sym,2}:\n",
       " 1  2  1\n",
       " 2  4  1\n",
       " 2  3  0"
      ]
     },
     "execution_count": 4,
     "metadata": {},
     "output_type": "execute_result"
    }
   ],
   "source": [
    "P = Sym[\n",
    "    1 2 1\n",
    "    2 4 1\n",
    "    2 3 0\n",
    "]"
   ]
  },
  {
   "cell_type": "code",
   "execution_count": 5,
   "metadata": {},
   "outputs": [
    {
     "data": {
      "text/latex": [
       "\\[\\left[ \\begin{array}{rrr}1&0&0\\\\0&2&0\\\\0&0&3\\end{array}\\right]\\]"
      ],
      "text/plain": [
       "3×3 Array{Sym,2}:\n",
       " 1  0  0\n",
       " 0  2  0\n",
       " 0  0  3"
      ]
     },
     "execution_count": 5,
     "metadata": {},
     "output_type": "execute_result"
    }
   ],
   "source": [
    "D₁ = Sym[\n",
    "    1 0 0\n",
    "    0 2 0\n",
    "    0 0 3\n",
    "]"
   ]
  },
  {
   "cell_type": "code",
   "execution_count": 6,
   "metadata": {},
   "outputs": [
    {
     "data": {
      "text/plain": [
       "true"
      ]
     },
     "execution_count": 6,
     "metadata": {},
     "output_type": "execute_result"
    }
   ],
   "source": [
    "X == P*D₁*P^-1"
   ]
  },
  {
   "cell_type": "markdown",
   "metadata": {},
   "source": [
    "## 問題2"
   ]
  },
  {
   "cell_type": "code",
   "execution_count": 7,
   "metadata": {},
   "outputs": [
    {
     "name": "stdout",
     "output_type": "stream",
     "text": [
      "(eigen(Y)).values = [-0.9999999999999969, 1.0000000000000007, 2.0000000000000004]\n"
     ]
    },
    {
     "data": {
      "text/plain": [
       "3×3 Array{Complex{Float64},2}:\n",
       " 1.0+5.40833e-17im  -1.0-1.96262e-17im  -1.0-3.39935e-17im\n",
       " 0.0+1.0im           0.0-1.57009e-16im   0.0+2.0im        \n",
       " 1.0+0.0im           1.0+0.0im          -1.0+0.0im        "
      ]
     },
     "execution_count": 7,
     "metadata": {},
     "output_type": "execute_result"
    }
   ],
   "source": [
    "Y = [\n",
    "    1/2  im  -1/2\n",
    "    -im  1   -im\n",
    "    -1/2 im  1/2\n",
    "]\n",
    "@show eigen(Y).values\n",
    "eigen(Y).vectors * [\n",
    "    √3 0 0\n",
    "    0 √2 0\n",
    "    0 0 √6\n",
    "]"
   ]
  },
  {
   "cell_type": "code",
   "execution_count": 8,
   "metadata": {},
   "outputs": [
    {
     "data": {
      "text/latex": [
       "\\[\\left[ \\begin{array}{rrr}\\frac{1}{2}&i&- \\frac{1}{2}\\\\- i&1&- i\\\\- \\frac{1}{2}&i&\\frac{1}{2}\\end{array}\\right]\\]"
      ],
      "text/plain": [
       "3×3 Array{Sym,2}:\n",
       "  1/2  I  -1/2\n",
       "   -I  1    -I\n",
       " -1/2  I   1/2"
      ]
     },
     "execution_count": 8,
     "metadata": {},
     "output_type": "execute_result"
    }
   ],
   "source": [
    "Y = Sym[\n",
    "    1//2  im  -1//2\n",
    "    -im  1   -im\n",
    "    -1//2 im  1//2\n",
    "]"
   ]
  },
  {
   "cell_type": "code",
   "execution_count": 9,
   "metadata": {},
   "outputs": [
    {
     "data": {
      "text/latex": [
       "\\[\\left[ \\begin{array}{rrr}1&1&1\\\\i&0&- 2 i\\\\1&-1&1\\end{array}\\right]\\]"
      ],
      "text/plain": [
       "3×3 Array{Sym,2}:\n",
       " 1   1     1\n",
       " I   0  -2*I\n",
       " 1  -1     1"
      ]
     },
     "execution_count": 9,
     "metadata": {},
     "output_type": "execute_result"
    }
   ],
   "source": [
    "Ũ = Sym[\n",
    "    1   1   1\n",
    "    im  0  -2im\n",
    "    1  -1   1\n",
    "]"
   ]
  },
  {
   "cell_type": "code",
   "execution_count": 10,
   "metadata": {},
   "outputs": [
    {
     "data": {
      "text/latex": [
       "\\[\\left[ \\begin{array}{rrr}-1&0&0\\\\0&1&0\\\\0&0&2\\end{array}\\right]\\]"
      ],
      "text/plain": [
       "3×3 Array{Sym,2}:\n",
       " -1  0  0\n",
       "  0  1  0\n",
       "  0  0  2"
      ]
     },
     "execution_count": 10,
     "metadata": {},
     "output_type": "execute_result"
    }
   ],
   "source": [
    "D₂ = Sym[\n",
    "    -1 0 0\n",
    "    0  1 0\n",
    "    0  0 2\n",
    "]"
   ]
  },
  {
   "cell_type": "code",
   "execution_count": 11,
   "metadata": {},
   "outputs": [
    {
     "data": {
      "text/latex": [
       "\\[\\left[ \\begin{array}{rrr}0&0&0\\\\0&0&0\\\\0&0&0\\end{array}\\right]\\]"
      ],
      "text/plain": [
       "3×3 Array{Sym,2}:\n",
       " 0  0  0\n",
       " 0  0  0\n",
       " 0  0  0"
      ]
     },
     "execution_count": 11,
     "metadata": {},
     "output_type": "execute_result"
    }
   ],
   "source": [
    "Sym.(Y*Ũ - Ũ*D₂)"
   ]
  },
  {
   "cell_type": "markdown",
   "metadata": {},
   "source": [
    "**注意:** ベクトル $\\begin{bmatrix} 1 \\\\ i \\\\ 1 \\\\ \\end{bmatrix}$ のノルムは $\\sqrt{1^2+i^2+1^2}=1$ ではなく, $\\sqrt{|1|^2+|i|^2+|1|^2}=\\sqrt{3}$ である.  ベクトル $\\begin{bmatrix} 1 \\\\ -2i \\\\ 1 \\\\ \\end{bmatrix}$ についても同様であり, そのノルムは $\\sqrt{6}$ になる."
   ]
  },
  {
   "cell_type": "code",
   "execution_count": 12,
   "metadata": {},
   "outputs": [
    {
     "data": {
      "text/latex": [
       "\\[\\left[ \\begin{array}{rrr}\\frac{\\sqrt{3}}{3}&\\frac{\\sqrt{2}}{2}&\\frac{\\sqrt{6}}{6}\\\\\\frac{\\sqrt{3} i}{3}&0&- \\frac{\\sqrt{6} i}{3}\\\\\\frac{\\sqrt{3}}{3}&- \\frac{\\sqrt{2}}{2}&\\frac{\\sqrt{6}}{6}\\end{array}\\right]\\]"
      ],
      "text/plain": [
       "3×3 Array{Sym,2}:\n",
       "   sqrt(3)/3   sqrt(2)/2     sqrt(6)/6\n",
       " sqrt(3)*I/3           0  -sqrt(6)*I/3\n",
       "   sqrt(3)/3  -sqrt(2)/2     sqrt(6)/6"
      ]
     },
     "execution_count": 12,
     "metadata": {},
     "output_type": "execute_result"
    }
   ],
   "source": [
    "U = Sym.(Ũ * Sym[\n",
    "    1/√(Sym(3)) 0 0\n",
    "    0 1/√(Sym(2)) 0\n",
    "    0 0 1/√(Sym(6))\n",
    "])"
   ]
  },
  {
   "cell_type": "code",
   "execution_count": 13,
   "metadata": {},
   "outputs": [
    {
     "data": {
      "text/latex": [
       "\\[\\left[ \\begin{array}{rrr}1&0&0\\\\0&1&0\\\\0&0&1\\end{array}\\right]\\]"
      ],
      "text/plain": [
       "3×3 Array{Sym,2}:\n",
       " 1  0  0\n",
       " 0  1  0\n",
       " 0  0  1"
      ]
     },
     "execution_count": 13,
     "metadata": {},
     "output_type": "execute_result"
    }
   ],
   "source": [
    "Sym.(U*U')"
   ]
  },
  {
   "cell_type": "code",
   "execution_count": 14,
   "metadata": {},
   "outputs": [
    {
     "data": {
      "text/latex": [
       "\\[\\left[ \\begin{array}{rrr}-1&0&0\\\\0&1&0\\\\0&0&2\\end{array}\\right]\\]"
      ],
      "text/plain": [
       "3×3 Array{Sym,2}:\n",
       " -1  0  0\n",
       "  0  1  0\n",
       "  0  0  2"
      ]
     },
     "execution_count": 14,
     "metadata": {},
     "output_type": "execute_result"
    }
   ],
   "source": [
    "D₁ = Sym[\n",
    "    -1 0 0\n",
    "    0  1 0\n",
    "    0  0 2\n",
    "]"
   ]
  },
  {
   "cell_type": "code",
   "execution_count": 15,
   "metadata": {},
   "outputs": [
    {
     "data": {
      "text/latex": [
       "\\[\\left[ \\begin{array}{rrr}\\frac{1}{2}&i&- \\frac{1}{2}\\\\- i&1&- i\\\\- \\frac{1}{2}&i&\\frac{1}{2}\\end{array}\\right]\\]"
      ],
      "text/plain": [
       "3×3 Array{Sym,2}:\n",
       "  1/2  I  -1/2\n",
       "   -I  1    -I\n",
       " -1/2  I   1/2"
      ]
     },
     "execution_count": 15,
     "metadata": {},
     "output_type": "execute_result"
    }
   ],
   "source": [
    "Sym.(U*D₂*U^-1)"
   ]
  },
  {
   "cell_type": "markdown",
   "metadata": {},
   "source": [
    "## 問題3"
   ]
  },
  {
   "cell_type": "code",
   "execution_count": 16,
   "metadata": {},
   "outputs": [
    {
     "data": {
      "text/latex": [
       "\\[\\left[ \\begin{array}{rrr}3&- \\sqrt{2}&0\\\\- \\sqrt{2}&3&- \\sqrt{2}\\\\0&- \\sqrt{2}&3\\end{array}\\right]\\]"
      ],
      "text/plain": [
       "3×3 Array{Sym,2}:\n",
       "        3  -sqrt(2)         0\n",
       " -sqrt(2)         3  -sqrt(2)\n",
       "        0  -sqrt(2)         3"
      ]
     },
     "execution_count": 16,
     "metadata": {},
     "output_type": "execute_result"
    }
   ],
   "source": [
    "Z = [\n",
    "    3 -√Sym(2) 0\n",
    "    -√Sym(2) 3 -√Sym(2)\n",
    "    0 -√Sym(2) 3\n",
    "]"
   ]
  },
  {
   "cell_type": "code",
   "execution_count": 17,
   "metadata": {},
   "outputs": [
    {
     "data": {
      "text/plain": [
       "Eigen{Float64,Float64,Array{Float64,2},Array{Float64,1}}\n",
       "eigenvalues:\n",
       "3-element Array{Float64,1}:\n",
       " 1.0000000000000007\n",
       " 3.0000000000000018\n",
       " 5.0               \n",
       "eigenvectors:\n",
       "3×3 Array{Float64,2}:\n",
       " 0.5       -0.707107     -0.5     \n",
       " 0.707107   6.66134e-16   0.707107\n",
       " 0.5        0.707107     -0.5     "
      ]
     },
     "execution_count": 17,
     "metadata": {},
     "output_type": "execute_result"
    }
   ],
   "source": [
    "eigen(Float64.(Z))"
   ]
  },
  {
   "cell_type": "code",
   "execution_count": 18,
   "metadata": {},
   "outputs": [
    {
     "data": {
      "text/latex": [
       "\\[\\left[ \\begin{array}{rrr}\\frac{1}{2}&\\frac{\\sqrt{2}}{2}&\\frac{1}{2}\\\\\\frac{\\sqrt{2}}{2}&0&- \\frac{\\sqrt{2}}{2}\\\\\\frac{1}{2}&- \\frac{\\sqrt{2}}{2}&\\frac{1}{2}\\end{array}\\right]\\]"
      ],
      "text/plain": [
       "3×3 Array{Sym,2}:\n",
       "       1/2   sqrt(2)/2         1/2\n",
       " sqrt(2)/2           0  -sqrt(2)/2\n",
       "       1/2  -sqrt(2)/2         1/2"
      ]
     },
     "execution_count": 18,
     "metadata": {},
     "output_type": "execute_result"
    }
   ],
   "source": [
    "G = [\n",
    "    1/Sym(2)   1/√Sym(2)   1/Sym(2)\n",
    "    1/√Sym(2)  0          -1/√Sym(2)\n",
    "    1/Sym(2)   -1/√Sym(2)  1/Sym(2)\n",
    "]"
   ]
  },
  {
   "cell_type": "code",
   "execution_count": 19,
   "metadata": {},
   "outputs": [
    {
     "data": {
      "text/plain": [
       "3×3 Array{Any,2}:\n",
       " 1  0  0\n",
       " 0  1  0\n",
       " 0  0  1"
      ]
     },
     "execution_count": 19,
     "metadata": {},
     "output_type": "execute_result"
    }
   ],
   "source": [
    "G*G'"
   ]
  },
  {
   "cell_type": "code",
   "execution_count": 20,
   "metadata": {},
   "outputs": [
    {
     "data": {
      "text/latex": [
       "\\[\\left[ \\begin{array}{rrr}1&0&0\\\\0&3&0\\\\0&0&5\\end{array}\\right]\\]"
      ],
      "text/plain": [
       "3×3 Array{Sym,2}:\n",
       " 1  0  0\n",
       " 0  3  0\n",
       " 0  0  5"
      ]
     },
     "execution_count": 20,
     "metadata": {},
     "output_type": "execute_result"
    }
   ],
   "source": [
    "D₃ = Sym[\n",
    "    1 0 0\n",
    "    0 3 0\n",
    "    0 0 5\n",
    "]"
   ]
  },
  {
   "cell_type": "code",
   "execution_count": 21,
   "metadata": {},
   "outputs": [
    {
     "data": {
      "text/latex": [
       "\\[\\left[ \\begin{array}{rrr}0&0&0\\\\0&0&0\\\\0&0&0\\end{array}\\right]\\]"
      ],
      "text/plain": [
       "3×3 Array{Sym,2}:\n",
       " 0  0  0\n",
       " 0  0  0\n",
       " 0  0  0"
      ]
     },
     "execution_count": 21,
     "metadata": {},
     "output_type": "execute_result"
    }
   ],
   "source": [
    "Z*G - G*D₃"
   ]
  },
  {
   "cell_type": "markdown",
   "metadata": {},
   "source": [
    "## 問題4"
   ]
  },
  {
   "cell_type": "code",
   "execution_count": 22,
   "metadata": {},
   "outputs": [
    {
     "data": {
      "text/latex": [
       "\\[\\left[ \\begin{array}{rrr}1&5&1\\\\2&6&a\\\\3&7&7\\\\4&8&b\\end{array}\\right]\\]"
      ],
      "text/plain": [
       "4×3 Array{Sym,2}:\n",
       " 1  5  1\n",
       " 2  6  a\n",
       " 3  7  7\n",
       " 4  8  b"
      ]
     },
     "execution_count": 22,
     "metadata": {},
     "output_type": "execute_result"
    }
   ],
   "source": [
    "@vars a b\n",
    "p = Sym[1, 2, 3, 4]\n",
    "q = Sym[5, 6, 7, 8]\n",
    "r = Sym[1, a, 7, b]\n",
    "W = [p q r]"
   ]
  },
  {
   "cell_type": "code",
   "execution_count": 23,
   "metadata": {},
   "outputs": [
    {
     "data": {
      "text/plain": [
       "Dict{Any,Any} with 4 entries:\n",
       "  b => 10\n",
       "  a => 4\n",
       "  α => 7/2\n",
       "  β => -1/2"
      ]
     },
     "execution_count": 23,
     "metadata": {},
     "output_type": "execute_result"
    }
   ],
   "source": [
    "@vars α β\n",
    "v = [α, β, -1]\n",
    "solve(Sym.(W*v))"
   ]
  },
  {
   "cell_type": "markdown",
   "metadata": {},
   "source": [
    "## 問題5\n",
    "\n",
    "$f(x) = f(x+1) + x^3 f(1/x)$ より, \n",
    "\n",
    "$$\n",
    "\\begin{aligned}\n",
    "&\n",
    "f(1) = 1 + x^3\\cdot 1 = 1 + x^3,\n",
    "\\\\ &\n",
    "f(x) = x+1 + x^3/x = 1 + x + x^2,\n",
    "\\\\ &\n",
    "f(x^2) = x^2+2x+1 + x^3/x^2 = 1 + 3x + x^2\n",
    "\\\\ &\n",
    "f(x^3) = x^3+3x^2+3x+1 + x^3/x^3 = 2 + 3x + 3x^2 + x^3\n",
    "\\end{aligned}\n",
    "$$\n",
    "\n",
    "ゆえに,\n",
    "\n",
    "$$\n",
    "[f(1), f(x), f(x^2), f(x^3)] =\n",
    "[1, x, x^2, x^3]\n",
    "\\begin{bmatrix}\n",
    "  1 & 1 & 1 & 2 \\\\\n",
    "  0 & 1 & 3 & 3 \\\\\n",
    "  0 & 1 & 1 & 3 \\\\\n",
    "  1 & 0 & 0 & 1 \\\\\n",
    "\\end{bmatrix}.\n",
    "$$"
   ]
  },
  {
   "cell_type": "markdown",
   "metadata": {},
   "source": [
    "## 問題6"
   ]
  },
  {
   "cell_type": "code",
   "execution_count": 24,
   "metadata": {},
   "outputs": [
    {
     "data": {
      "text/plain": [
       "4×5 Array{Rational,2}:\n",
       " 1//1  5//1   9//1  10//1  10//1\n",
       " 2//1  6//1  10//1  11//1  11//1\n",
       " 3//1  7//1  11//1  12//1  12//1\n",
       " 4//1  8//1  12//1  12//1  11//1"
      ]
     },
     "execution_count": 24,
     "metadata": {},
     "output_type": "execute_result"
    }
   ],
   "source": [
    "B = Rational[\n",
    "    1 5  9 10 10\n",
    "    2 6 10 11 11\n",
    "    3 7 11 12 12\n",
    "    4 8 12 12 11\n",
    "]"
   ]
  },
  {
   "cell_type": "code",
   "execution_count": 25,
   "metadata": {},
   "outputs": [
    {
     "data": {
      "text/plain": [
       "3"
      ]
     },
     "execution_count": 25,
     "metadata": {},
     "output_type": "execute_result"
    }
   ],
   "source": [
    "rank(B)"
   ]
  },
  {
   "cell_type": "code",
   "execution_count": 26,
   "metadata": {},
   "outputs": [
    {
     "data": {
      "text/plain": [
       "2"
      ]
     },
     "execution_count": 26,
     "metadata": {},
     "output_type": "execute_result"
    }
   ],
   "source": [
    "5 - rank(B)"
   ]
  },
  {
   "cell_type": "code",
   "execution_count": 27,
   "metadata": {},
   "outputs": [
    {
     "data": {
      "text/plain": [
       "5×2 Array{Float64,2}:\n",
       " -0.373358   -0.202937\n",
       "  0.768444    0.307135\n",
       " -0.482002    0.290756\n",
       "  0.173832   -0.789909\n",
       " -0.0869158   0.394955"
      ]
     },
     "execution_count": 27,
     "metadata": {},
     "output_type": "execute_result"
    }
   ],
   "source": [
    "nullspace(B)"
   ]
  },
  {
   "cell_type": "code",
   "execution_count": 28,
   "metadata": {},
   "outputs": [
    {
     "data": {
      "text/plain": [
       "Dict{Any,Any} with 3 entries:\n",
       "  y => -2*z\n",
       "  w => -2*x + 9*z/4\n",
       "  v => x - 5*z/4"
      ]
     },
     "execution_count": 28,
     "metadata": {},
     "output_type": "execute_result"
    }
   ],
   "source": [
    "@vars v w x y z\n",
    "k = [v, w, x, y, z]\n",
    "solve(Sym.(B*k))"
   ]
  },
  {
   "cell_type": "code",
   "execution_count": null,
   "metadata": {},
   "outputs": [],
   "source": []
  }
 ],
 "metadata": {
  "@webio": {
   "lastCommId": null,
   "lastKernelId": null
  },
  "kernelspec": {
   "display_name": "Julia 1.3.1",
   "language": "julia",
   "name": "julia-1.3"
  },
  "language_info": {
   "file_extension": ".jl",
   "mimetype": "application/julia",
   "name": "julia",
   "version": "1.3.1"
  },
  "toc": {
   "base_numbering": 1,
   "nav_menu": {},
   "number_sections": true,
   "sideBar": true,
   "skip_h1_title": true,
   "title_cell": "Table of Contents",
   "title_sidebar": "Contents",
   "toc_cell": false,
   "toc_position": {},
   "toc_section_display": true,
   "toc_window_display": false
  }
 },
 "nbformat": 4,
 "nbformat_minor": 4
}
