{
 "cells": [
  {
   "cell_type": "markdown",
   "metadata": {},
   "source": [
    "# 線型代数学A 2018\n",
    "\n",
    "黒木玄\n",
    "\n",
    "2018年8月20日(月)\n",
    "\n",
    "次のリンク先で綺麗に閲覧できる:\n",
    "\n",
    "* http://nbviewer.jupyter.org/github/genkuroki/LinearAlgebra/blob/master/Linear%20Algebra%20A%202018.ipynb\n",
    "\n",
    "$\n",
    "\\newcommand\\eps{\\varepsilon}\n",
    "\\newcommand\\ds{\\displaystyle}\n",
    "\\newcommand\\Z{{\\mathbb Z}}\n",
    "\\newcommand\\R{{\\mathbb R}}\n",
    "\\newcommand\\C{{\\mathbb C}}\n",
    "\\newcommand\\QED{\\text{□}}\n",
    "\\newcommand\\root{\\sqrt}\n",
    "\\newcommand\\bra{\\langle}\n",
    "\\newcommand\\ket{\\rangle}\n",
    "\\newcommand\\d{\\partial}\n",
    "\\newcommand\\sech{\\operatorname{sech}}\n",
    "\\newcommand\\cosec{\\operatorname{cosec}}\n",
    "\\newcommand\\sign{\\operatorname{sign}}\n",
    "\\newcommand\\sinc{\\operatorname{sinc}}\n",
    "\\newcommand\\real{\\operatorname{Re}}\n",
    "\\newcommand\\imag{\\operatorname{Im}}\n",
    "\\newcommand\\Li{\\operatorname{Li}}\n",
    "\\newcommand\\np[1]{:\\!#1\\!:}\n",
    "\\newcommand\\PROD{\\mathop{\\coprod\\kern-1.35em\\prod}}\n",
    "\\newcommand\\rank{\\operatorname{rank}}\n",
    "$"
   ]
  },
  {
   "cell_type": "markdown",
   "metadata": {
    "toc": true
   },
   "source": [
    "<h1>Table of Contents<span class=\"tocSkip\"></span></h1>\n",
    "<div class=\"toc\"><ul class=\"toc-item\"><li><span><a href=\"#[1]\" data-toc-modified-id=\"[1]-1\"><span class=\"toc-item-num\">1&nbsp;&nbsp;</span>[1]</a></span></li><li><span><a href=\"#[2]\" data-toc-modified-id=\"[2]-2\"><span class=\"toc-item-num\">2&nbsp;&nbsp;</span>[2]</a></span></li><li><span><a href=\"#[3]\" data-toc-modified-id=\"[3]-3\"><span class=\"toc-item-num\">3&nbsp;&nbsp;</span>[3]</a></span></li><li><span><a href=\"#[4]\" data-toc-modified-id=\"[4]-4\"><span class=\"toc-item-num\">4&nbsp;&nbsp;</span>[4]</a></span><ul class=\"toc-item\"><li><span><a href=\"#[4]-(1)\" data-toc-modified-id=\"[4]-(1)-4.1\"><span class=\"toc-item-num\">4.1&nbsp;&nbsp;</span>[4] (1)</a></span></li><li><span><a href=\"#[4]-(2)\" data-toc-modified-id=\"[4]-(2)-4.2\"><span class=\"toc-item-num\">4.2&nbsp;&nbsp;</span>[4] (2)</a></span></li></ul></li><li><span><a href=\"#[5]\" data-toc-modified-id=\"[5]-5\"><span class=\"toc-item-num\">5&nbsp;&nbsp;</span>[5]</a></span></li><li><span><a href=\"#[6]\" data-toc-modified-id=\"[6]-6\"><span class=\"toc-item-num\">6&nbsp;&nbsp;</span>[6]</a></span></li><li><span><a href=\"#[7]\" data-toc-modified-id=\"[7]-7\"><span class=\"toc-item-num\">7&nbsp;&nbsp;</span>[7]</a></span></li><li><span><a href=\"#[8]\" data-toc-modified-id=\"[8]-8\"><span class=\"toc-item-num\">8&nbsp;&nbsp;</span>[8]</a></span></li></ul></div>"
   ]
  },
  {
   "cell_type": "code",
   "execution_count": 1,
   "metadata": {},
   "outputs": [],
   "source": [
    "using SymPy\n",
    "# sympy[:init_printing](order=\"rev-lex\")\n",
    "# sympy[:init_printing](order=\"lex\") # default\n",
    "\n",
    "using Plots\n",
    "gr()\n",
    "ENV[\"PLOTS_TEST\"] = \"true\";"
   ]
  },
  {
   "cell_type": "markdown",
   "metadata": {},
   "source": [
    "全体として行列を行列式の記号で書いている人がものすごくたくさんいた."
   ]
  },
  {
   "cell_type": "markdown",
   "metadata": {},
   "source": [
    "## \\[1\\]\n",
    "\n",
    "$\\rank K = 3$"
   ]
  },
  {
   "cell_type": "code",
   "execution_count": 2,
   "metadata": {},
   "outputs": [
    {
     "data": {
      "text/plain": [
       "3"
      ]
     },
     "execution_count": 2,
     "metadata": {},
     "output_type": "execute_result"
    }
   ],
   "source": [
    "K = Rational[\n",
    "    5 2 2 1 2\n",
    "    3 8 9 1 3\n",
    "    6 4 4 2 2\n",
    "    1 8 9 1 2\n",
    "    5 8 9 1 4\n",
    "]\n",
    "rank(K)"
   ]
  },
  {
   "cell_type": "markdown",
   "metadata": {},
   "source": [
    "## \\[2\\]\n",
    "\n",
    "$a=12$"
   ]
  },
  {
   "cell_type": "code",
   "execution_count": 3,
   "metadata": {},
   "outputs": [
    {
     "data": {
      "text/plain": [
       "12//1"
      ]
     },
     "execution_count": 3,
     "metadata": {},
     "output_type": "execute_result"
    }
   ],
   "source": [
    "A = Rational[\n",
    "    4649 4651 4653\n",
    "    4655 4657 4659\n",
    "    4661 4663 4664\n",
    "]\n",
    "a = det(A)"
   ]
  },
  {
   "cell_type": "markdown",
   "metadata": {},
   "source": [
    "## \\[3\\]\n",
    "\n",
    "問題が間違っていた. 正しくは, $2w+3x+4y+4z=b$ ではなく, $2w+2x+4y+4z=b$.\n",
    "\n",
    "ゆえに全員満点."
   ]
  },
  {
   "cell_type": "code",
   "execution_count": 4,
   "metadata": {},
   "outputs": [
    {
     "data": {
      "text/latex": [
       "\\begin{bmatrix}- a + w + 2 x + y + 2 z\\\\- b + 2 w + 2 x + 4 y + 4 z\\\\- c + w + 4 x - y + 2 z\\end{bmatrix}"
      ],
      "text/plain": [
       "3-element Array{SymPy.Sym,1}:\n",
       "     -a + w + 2*x + y + 2*z\n",
       " -b + 2*w + 2*x + 4*y + 4*z\n",
       "     -c + w + 4*x - y + 2*z"
      ]
     },
     "metadata": {},
     "output_type": "display_data"
    },
    {
     "data": {
      "text/latex": [
       "\\begin{equation*}\\begin{cases}x & \\text{=>} &a - \\frac{b}{2} + y\\\\c & \\text{=>} &3 a - b\\\\w & \\text{=>} &- a + b - 3 y - 2 z\\\\\\end{cases}\\end{equation*}"
      ],
      "text/plain": [
       "Dict{SymPy.Sym,SymPy.Sym} with 3 entries:\n",
       "  x => a - b/2 + y\n",
       "  c => 3*a - b\n",
       "  w => -a + b - 3*y - 2*z"
      ]
     },
     "execution_count": 4,
     "metadata": {},
     "output_type": "execute_result"
    }
   ],
   "source": [
    "a, b, c, w, x, y, z = symbols(\"a b c w x y z\")\n",
    "eq3 = [w+2x+y+2z-a, 2w+2x+4y+4z-b, w+4x-y+2z-c]\n",
    "eq3 |> display\n",
    "solve(eq3, [c,w,x])"
   ]
  },
  {
   "cell_type": "markdown",
   "metadata": {},
   "source": [
    "## \\[4\\]\n",
    "\n",
    "行列なのに行列式の記号で書いている人達がものすごくたくさんいた.\n",
    "\n",
    "### \\[4\\] (1)\n",
    "\n",
    "$\\ds\n",
    "|A|=12, \\quad\n",
    "A^{-1}=\\frac{1}{12}\n",
    "\\begin{bmatrix}\n",
    "5 & -1 & -1 \\\\\n",
    "1 &  7 & -5 \\\\\n",
    "1 & -5 &  7 \\\\\n",
    "\\end{bmatrix}\n",
    "$\n",
    "\n",
    "### \\[4\\] (2)\n",
    "\n",
    "$x=1,3,4$"
   ]
  },
  {
   "cell_type": "code",
   "execution_count": 5,
   "metadata": {},
   "outputs": [
    {
     "data": {
      "text/plain": [
       "12//1"
      ]
     },
     "metadata": {},
     "output_type": "display_data"
    },
    {
     "data": {
      "text/plain": [
       "3×3 Array{Rational{Int64},2}:\n",
       " 5//12  -1//12  -1//12\n",
       " 1//12   7//12  -5//12\n",
       " 1//12  -5//12   7//12"
      ]
     },
     "metadata": {},
     "output_type": "display_data"
    }
   ],
   "source": [
    "A = Rational[\n",
    "     2 1 1\n",
    "    -1 3 2\n",
    "    -1 2 3\n",
    "]\n",
    "\n",
    "det(A) |> display\n",
    "inv(A) |> display"
   ]
  },
  {
   "cell_type": "code",
   "execution_count": 6,
   "metadata": {},
   "outputs": [
    {
     "data": {
      "text/latex": [
       "\\begin{bmatrix}1\\\\3\\\\4\\end{bmatrix}"
      ],
      "text/plain": [
       "3-element Array{SymPy.Sym,1}:\n",
       " 1\n",
       " 3\n",
       " 4"
      ]
     },
     "execution_count": 6,
     "metadata": {},
     "output_type": "execute_result"
    }
   ],
   "source": [
    "x = symbols(\"x\")\n",
    "f(x) = det(x*eye(Int, 3)- A)\n",
    "solve(f(x), x)"
   ]
  },
  {
   "cell_type": "markdown",
   "metadata": {},
   "source": [
    "## \\[5\\]\n",
    "\n",
    "分母の行列式は $17$ で, \n",
    "$\\ds x = \\frac{7}{17}$, \n",
    "$\\ds y = \\frac{-2}{17}$, \n",
    "$\\ds z = \\frac{-3}{17}$ "
   ]
  },
  {
   "cell_type": "code",
   "execution_count": 7,
   "metadata": {},
   "outputs": [
    {
     "data": {
      "text/latex": [
       "\\begin{equation*}\\begin{cases}y & \\text{=>} &- \\frac{2}{17}\\\\z & \\text{=>} &- \\frac{3}{17}\\\\x & \\text{=>} &\\frac{7}{17}\\\\\\end{cases}\\end{equation*}"
      ],
      "text/plain": [
       "Dict{SymPy.Sym,SymPy.Sym} with 3 entries:\n",
       "  y => -2/17\n",
       "  z => -3/17\n",
       "  x => 7/17"
      ]
     },
     "execution_count": 7,
     "metadata": {},
     "output_type": "execute_result"
    }
   ],
   "source": [
    "x, y, z = symbols(\"x y z\")\n",
    "A = Rational[\n",
    "     3 -1 2\n",
    "     4  1 3\n",
    "    -1  2 2\n",
    "]\n",
    "b = Rational[\n",
    "     1\n",
    "     1\n",
    "    -1\n",
    "]\n",
    "v = [\n",
    "    x\n",
    "    y\n",
    "    z\n",
    "]\n",
    "solve(A*v-b, [x,y,z])"
   ]
  },
  {
   "cell_type": "code",
   "execution_count": 8,
   "metadata": {},
   "outputs": [
    {
     "name": "stdout",
     "output_type": "stream",
     "text": [
      "det(A) = 17//1\n",
      "det(hcat(b, A[:, 2], A[:, 3])) = 7//1\n",
      "det(hcat(A[:, 1], b, A[:, 3])) = -2//1\n",
      "det(hcat(A[:, 1], A[:, 2], b)) = -3//1\n"
     ]
    }
   ],
   "source": [
    "@show det(A)\n",
    "@show det(hcat(b,A[:,2],A[:,3]))\n",
    "@show det(hcat(A[:,1],b,A[:,3]))\n",
    "@show det(hcat(A[:,1],A[:,2],b));"
   ]
  },
  {
   "cell_type": "markdown",
   "metadata": {},
   "source": [
    "## \\[6\\]\n",
    "\n",
    "$\\ds\\cos\\theta=\\frac{-1}{5\\sqrt{35}}$, 互いにほぼ垂直."
   ]
  },
  {
   "cell_type": "code",
   "execution_count": 9,
   "metadata": {},
   "outputs": [
    {
     "name": "stdout",
     "output_type": "stream",
     "text": [
      "a ⋅ b = -1\n",
      "a ⋅ a = 35\n",
      "b ⋅ b = 25\n"
     ]
    },
    {
     "data": {
      "text/latex": [
       "$$5 \\sqrt{35}$$"
      ],
      "text/plain": [
       "    ____\n",
       "5*\\/ 35 "
      ]
     },
     "execution_count": 9,
     "metadata": {},
     "output_type": "execute_result"
    }
   ],
   "source": [
    "a = [\n",
    "     3\n",
    "     4\n",
    "    -3\n",
    "     1\n",
    "]\n",
    "b = [\n",
    "     4\n",
    "    -2\n",
    "     2\n",
    "     1\n",
    "]\n",
    "@show a⋅b\n",
    "@show a⋅a\n",
    "@show b⋅b\n",
    "(sympy[:sqrt](a⋅a)*sympy[:sqrt](b⋅b))"
   ]
  },
  {
   "cell_type": "markdown",
   "metadata": {},
   "source": [
    "## \\[7\\]\n",
    "\n",
    "$\n",
    "\\ds X = \\begin{bmatrix}\n",
    "1 & 1 & 2 \\\\\n",
    "1 & 1 & 1 \\\\\n",
    "2 & 1 & 1 \\\\\n",
    "\\end{bmatrix}$ または $\n",
    "\\ds\\begin{bmatrix}\n",
    "2 & 1 & 1 \\\\\n",
    "1 & 1 & 1 \\\\\n",
    "1 & 1 & 2 \\\\\n",
    "\\end{bmatrix}$.\n",
    "\n",
    "$E$ を3次の単位行列とし, \n",
    "\n",
    "$$\n",
    "A=\\begin{bmatrix}\n",
    "0 & 1 & 2 \\\\\n",
    "1 & 0 & 1 \\\\\n",
    "2 & 1 & 1 \\\\\n",
    "\\end{bmatrix}\n",
    "$$\n",
    "\n",
    "とおくと, $M=3E-A$ となるので, $M$ と可換な行列と $A$ と可換な行列は一致する. 特に $xE+yA+zA^2$ の形の行列は $M$ と可換である. $E+A$ と $(E+A+A^2)/3$ が9個の成分のうち7個が1で残りの2個が2の行列になる."
   ]
  },
  {
   "cell_type": "code",
   "execution_count": 10,
   "metadata": {},
   "outputs": [
    {
     "data": {
      "text/plain": [
       "3×3 Array{Int64,2}:\n",
       "  3  -1  -2\n",
       " -1   3  -1\n",
       " -2  -1   3"
      ]
     },
     "execution_count": 10,
     "metadata": {},
     "output_type": "execute_result"
    }
   ],
   "source": [
    "I = eye(Int, 3)\n",
    "A = [\n",
    "    0 1 2\n",
    "    1 0 1\n",
    "    2 1 0\n",
    "]\n",
    "M = 3*I - A"
   ]
  },
  {
   "cell_type": "code",
   "execution_count": 11,
   "metadata": {},
   "outputs": [
    {
     "data": {
      "text/plain": [
       "3×3 Array{Int64,2}:\n",
       " 1  1  2\n",
       " 1  1  1\n",
       " 2  1  1"
      ]
     },
     "execution_count": 11,
     "metadata": {},
     "output_type": "execute_result"
    }
   ],
   "source": [
    "X = I + A"
   ]
  },
  {
   "cell_type": "code",
   "execution_count": 12,
   "metadata": {},
   "outputs": [
    {
     "data": {
      "text/plain": [
       "3×3 Array{Int64,2}:\n",
       " 2  1  1\n",
       " 1  1  1\n",
       " 1  1  2"
      ]
     },
     "execution_count": 12,
     "metadata": {},
     "output_type": "execute_result"
    }
   ],
   "source": [
    "Y = (I + A + A^2) .÷ 3"
   ]
  },
  {
   "cell_type": "code",
   "execution_count": 13,
   "metadata": {},
   "outputs": [
    {
     "data": {
      "text/plain": [
       "true"
      ]
     },
     "execution_count": 13,
     "metadata": {},
     "output_type": "execute_result"
    }
   ],
   "source": [
    "M*X == X*M"
   ]
  },
  {
   "cell_type": "code",
   "execution_count": 14,
   "metadata": {},
   "outputs": [
    {
     "data": {
      "text/plain": [
       "true"
      ]
     },
     "execution_count": 14,
     "metadata": {},
     "output_type": "execute_result"
    }
   ],
   "source": [
    "M*Y == Y*M"
   ]
  },
  {
   "cell_type": "code",
   "execution_count": 15,
   "metadata": {},
   "outputs": [
    {
     "data": {
      "text/latex": [
       "\\begin{bmatrix}x + y + 2 z&y + z&2 y + z\\\\y + z&x + y + z&y + z\\\\2 y + z&y + z&x + y + 2 z\\end{bmatrix}"
      ],
      "text/plain": [
       "3×3 Array{SymPy.Sym,2}:\n",
       " x + y + 2*z      y + z      2*y + z\n",
       "       y + z  x + y + z        y + z\n",
       "     2*y + z      y + z  x + y + 2*z"
      ]
     },
     "execution_count": 15,
     "metadata": {},
     "output_type": "execute_result"
    }
   ],
   "source": [
    "x, y, z = symbols(\"x y z\")\n",
    "Z = x*I + y*X + z*Y # M と可換な行列 Z の全体は実はこのように表せる."
   ]
  },
  {
   "cell_type": "code",
   "execution_count": 16,
   "metadata": {},
   "outputs": [
    {
     "data": {
      "text/latex": [
       "\\begin{equation*}\\begin{cases}z & \\text{=>} &- y + 1\\\\x & \\text{=>} &0\\\\\\end{cases}\\end{equation*}"
      ],
      "text/plain": [
       "Dict{SymPy.Sym,SymPy.Sym} with 2 entries:\n",
       "  z => -y + 1\n",
       "  x => 0"
      ]
     },
     "execution_count": 16,
     "metadata": {},
     "output_type": "execute_result"
    }
   ],
   "source": [
    "solve([y+z-1, x+y+z-1], [x,z]) # y+z = x+y+z = 1 でなければいけない"
   ]
  },
  {
   "cell_type": "code",
   "execution_count": 17,
   "metadata": {},
   "outputs": [
    {
     "data": {
      "text/latex": [
       "\\begin{bmatrix}- y + 2&1&y + 1\\\\1&1&1\\\\y + 1&1&- y + 2\\end{bmatrix}"
      ],
      "text/plain": [
       "3×3 Array{SymPy.Sym,2}:\n",
       " -y + 2  1   y + 1\n",
       "      1  1       1\n",
       "  y + 1  1  -y + 2"
      ]
     },
     "execution_count": 17,
     "metadata": {},
     "output_type": "execute_result"
    }
   ],
   "source": [
    "Z = subs(Z, x=>0, z=>-y+1)"
   ]
  },
  {
   "cell_type": "code",
   "execution_count": 18,
   "metadata": {},
   "outputs": [
    {
     "data": {
      "text/latex": [
       "\\begin{bmatrix}2&1&1\\\\1&1&1\\\\1&1&2\\end{bmatrix}"
      ],
      "text/plain": [
       "3×3 Array{SymPy.Sym,2}:\n",
       " 2  1  1\n",
       " 1  1  1\n",
       " 1  1  2"
      ]
     },
     "execution_count": 18,
     "metadata": {},
     "output_type": "execute_result"
    }
   ],
   "source": [
    "# y = 0 または 1 であることがわかる\n",
    "\n",
    "subs(Z, y=>0)"
   ]
  },
  {
   "cell_type": "code",
   "execution_count": 19,
   "metadata": {},
   "outputs": [
    {
     "data": {
      "text/latex": [
       "\\begin{bmatrix}1&1&2\\\\1&1&1\\\\2&1&1\\end{bmatrix}"
      ],
      "text/plain": [
       "3×3 Array{SymPy.Sym,2}:\n",
       " 1  1  2\n",
       " 1  1  1\n",
       " 2  1  1"
      ]
     },
     "execution_count": 19,
     "metadata": {},
     "output_type": "execute_result"
    }
   ],
   "source": [
    "subs(Z, y=>1)"
   ]
  },
  {
   "cell_type": "markdown",
   "metadata": {},
   "source": [
    "## \\[8\\]\n",
    "\n",
    "$\\ds \\begin{bmatrix}\n",
    "-1 & 1 \\\\\n",
    "-2 & 2 \\\\\n",
    "\\end{bmatrix}$"
   ]
  },
  {
   "cell_type": "code",
   "execution_count": 20,
   "metadata": {},
   "outputs": [
    {
     "data": {
      "text/latex": [
       "\\begin{bmatrix}2\\\\3\\end{bmatrix}"
      ],
      "text/plain": [
       "2-element Array{SymPy.Sym,1}:\n",
       " 2\n",
       " 3"
      ]
     },
     "execution_count": 20,
     "metadata": {},
     "output_type": "execute_result"
    }
   ],
   "source": [
    "λ = symbols(\"λ\")\n",
    "I = eye(Int, 2)\n",
    "L = [\n",
    "     1 1\n",
    "    -2 4\n",
    "]\n",
    "solve(det(λ*I-L))"
   ]
  },
  {
   "cell_type": "code",
   "execution_count": 21,
   "metadata": {},
   "outputs": [
    {
     "data": {
      "text/plain": [
       "2×2 Array{Int64,2}:\n",
       " -2  1\n",
       " -2  1"
      ]
     },
     "execution_count": 21,
     "metadata": {},
     "output_type": "execute_result"
    }
   ],
   "source": [
    "L - 3*I"
   ]
  },
  {
   "cell_type": "code",
   "execution_count": 22,
   "metadata": {},
   "outputs": [
    {
     "data": {
      "text/plain": [
       "2×2 Array{Int64,2}:\n",
       " -1  1\n",
       " -2  2"
      ]
     },
     "execution_count": 22,
     "metadata": {},
     "output_type": "execute_result"
    }
   ],
   "source": [
    "L - 2*I"
   ]
  },
  {
   "cell_type": "code",
   "execution_count": 23,
   "metadata": {},
   "outputs": [
    {
     "data": {
      "text/plain": [
       "true"
      ]
     },
     "execution_count": 23,
     "metadata": {},
     "output_type": "execute_result"
    }
   ],
   "source": [
    "P = Rational[\n",
    "    1 1\n",
    "    1 2\n",
    "]\n",
    "D = Rational[\n",
    "    2 0\n",
    "    0 3\n",
    "]\n",
    "P*D*P^(-1) == L # P D P^{-1} = L"
   ]
  },
  {
   "cell_type": "code",
   "execution_count": 24,
   "metadata": {},
   "outputs": [
    {
     "data": {
      "text/latex": [
       "\\begin{bmatrix}2^{n}&0\\\\0&3^{n}\\end{bmatrix}"
      ],
      "text/plain": [
       "2×2 Array{SymPy.Sym,2}:\n",
       " 2^n    0\n",
       "   0  3^n"
      ]
     },
     "execution_count": 24,
     "metadata": {},
     "output_type": "execute_result"
    }
   ],
   "source": [
    "n = symbols(\"n\")\n",
    "\n",
    "# Dn = D^n\n",
    "Dn = [\n",
    "    2^n  0\n",
    "     0  3^n\n",
    "]"
   ]
  },
  {
   "cell_type": "code",
   "execution_count": 25,
   "metadata": {},
   "outputs": [
    {
     "data": {
      "text/latex": [
       "\\begin{bmatrix}3^{- n} \\left(2 \\cdot 2^{n} - 3^{n}\\right)&3^{- n} \\left(- 2^{n} + 3^{n}\\right)\\\\3^{- n} \\left(2 \\cdot 2^{n} - 2 \\cdot 3^{n}\\right)&3^{- n} \\left(- 2^{n} + 2 \\cdot 3^{n}\\right)\\end{bmatrix}"
      ],
      "text/plain": [
       "2×2 Array{SymPy.Sym,2}:\n",
       "   3^(-n)*(2*2^n - 3^n)    3^(-n)*(-2^n + 3^n)\n",
       " 3^(-n)*(2*2^n - 2*3^n)  3^(-n)*(-2^n + 2*3^n)"
      ]
     },
     "execution_count": 25,
     "metadata": {},
     "output_type": "execute_result"
    }
   ],
   "source": [
    "Xn = P*Dn*inv(P)/3^n # Xn = L^n/3^n"
   ]
  },
  {
   "cell_type": "code",
   "execution_count": 26,
   "metadata": {},
   "outputs": [
    {
     "data": {
      "text/latex": [
       "\\begin{bmatrix}-1&1\\\\-2&2\\end{bmatrix}"
      ],
      "text/plain": [
       "2×2 Array{SymPy.Sym,2}:\n",
       " -1  1\n",
       " -2  2"
      ]
     },
     "execution_count": 26,
     "metadata": {},
     "output_type": "execute_result"
    }
   ],
   "source": [
    "limit.(Xn, n=>oo)"
   ]
  },
  {
   "cell_type": "code",
   "execution_count": 27,
   "metadata": {},
   "outputs": [
    {
     "data": {
      "text/plain": [
       "Dict{Any,Any} with 2 entries:\n",
       "  3 => 1\n",
       "  2 => 1"
      ]
     },
     "execution_count": 27,
     "metadata": {},
     "output_type": "execute_result"
    }
   ],
   "source": [
    "eigenvalsL = sympy[:Matrix][:eigenvals](L*Sym(1))"
   ]
  },
  {
   "cell_type": "code",
   "execution_count": 28,
   "metadata": {},
   "outputs": [
    {
     "data": {
      "text/plain": [
       "2-element Array{Tuple{SymPy.Sym,Int64,Array{Array{SymPy.Sym,1},1}},1}:\n",
       " (2, 1, Array{SymPy.Sym,1}[SymPy.Sym[1, 1]])  \n",
       " (3, 1, Array{SymPy.Sym,1}[SymPy.Sym[1/2, 1]])"
      ]
     },
     "execution_count": 28,
     "metadata": {},
     "output_type": "execute_result"
    }
   ],
   "source": [
    "eigenvectsL = sympy[:Matrix][:eigenvects](L*Sym(1))"
   ]
  },
  {
   "cell_type": "code",
   "execution_count": null,
   "metadata": {},
   "outputs": [],
   "source": []
  }
 ],
 "metadata": {
  "kernelspec": {
   "display_name": "Julia 0.6.4",
   "language": "julia",
   "name": "julia-0.6"
  },
  "language_info": {
   "file_extension": ".jl",
   "mimetype": "application/julia",
   "name": "julia",
   "version": "0.6.4"
  },
  "latex_envs": {
   "LaTeX_envs_menu_present": true,
   "autoclose": true,
   "autocomplete": true,
   "bibliofile": "biblio.bib",
   "cite_by": "apalike",
   "current_citInitial": 1,
   "eqLabelWithNumbers": true,
   "eqNumInitial": 1,
   "hotkeys": {
    "equation": "Ctrl-E",
    "itemize": "Ctrl-I"
   },
   "labels_anchors": false,
   "latex_user_defs": false,
   "report_style_numbering": false,
   "user_envs_cfg": false
  },
  "toc": {
   "nav_menu": {},
   "number_sections": true,
   "sideBar": true,
   "skip_h1_title": true,
   "title_cell": "Table of Contents",
   "title_sidebar": "Contents",
   "toc_cell": true,
   "toc_position": {},
   "toc_section_display": true,
   "toc_window_display": false
  }
 },
 "nbformat": 4,
 "nbformat_minor": 2
}
